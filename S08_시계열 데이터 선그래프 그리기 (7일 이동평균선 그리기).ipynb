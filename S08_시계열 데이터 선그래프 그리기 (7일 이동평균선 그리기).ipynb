{
 "cells": [
  {
   "cell_type": "markdown",
   "metadata": {},
   "source": [
    "### 시계열 데이터 선그래프 (7일 이동 평균선 그리기)\n",
    "- 이동 평균선을 그리는 방법"
   ]
  },
  {
   "cell_type": "markdown",
   "metadata": {},
   "source": [
    "# Lineplot from a wide-form dataset\n",
    "* https://seaborn.pydata.org/examples/wide_data_lineplot.html"
   ]
  },
  {
   "cell_type": "code",
   "execution_count": 1,
   "metadata": {},
   "outputs": [],
   "source": [
    "import numpy as np\n",
    "import pandas as pd\n",
    "import seaborn as sns\n",
    "sns.set(style=\"whitegrid\")\n",
    "%matplotlib inline"
   ]
  },
  {
   "cell_type": "code",
   "execution_count": 2,
   "metadata": {},
   "outputs": [
    {
     "data": {
      "text/plain": [
       "RandomState(MT19937) at 0x120476EB8"
      ]
     },
     "execution_count": 2,
     "metadata": {},
     "output_type": "execute_result"
    }
   ],
   "source": [
    "rs = np.random.RandomState(365)\n",
    "rs"
   ]
  },
  {
   "cell_type": "code",
   "execution_count": 4,
   "metadata": {},
   "outputs": [
    {
     "data": {
      "text/plain": [
       "array([[ -2.14159895,  -1.23856596,   1.39294679,   0.53950231],\n",
       "       [ -1.76274504,  -1.45289681,   0.74345461,  -2.07158943],\n",
       "       [  0.72688886,  -1.24306808,   0.32987875,  -3.03094917],\n",
       "       ...,\n",
       "       [ 40.78279333,  14.96154129, -12.91381291,  10.50360701],\n",
       "       [ 41.07376835,  13.95902742, -12.0379894 ,  10.90847636],\n",
       "       [ 40.18591798,  13.869666  , -13.44694313,  10.71704547]])"
      ]
     },
     "execution_count": 4,
     "metadata": {},
     "output_type": "execute_result"
    }
   ],
   "source": [
    "values = rs.randn(365, 4).cumsum(axis=0)\n",
    "values"
   ]
  },
  {
   "cell_type": "code",
   "execution_count": 6,
   "metadata": {},
   "outputs": [
    {
     "data": {
      "text/plain": [
       "(365, 4)"
      ]
     },
     "execution_count": 6,
     "metadata": {},
     "output_type": "execute_result"
    }
   ],
   "source": [
    "pd.DataFrame(values).shape"
   ]
  },
  {
   "cell_type": "code",
   "execution_count": 21,
   "metadata": {},
   "outputs": [
    {
     "data": {
      "text/plain": [
       "DatetimeIndex(['2016-01-01', '2016-01-02', '2016-01-03', '2016-01-04',\n",
       "               '2016-01-05', '2016-01-06', '2016-01-07', '2016-01-08',\n",
       "               '2016-01-09', '2016-01-10',\n",
       "               ...\n",
       "               '2016-12-21', '2016-12-22', '2016-12-23', '2016-12-24',\n",
       "               '2016-12-25', '2016-12-26', '2016-12-27', '2016-12-28',\n",
       "               '2016-12-29', '2016-12-30'],\n",
       "              dtype='datetime64[ns]', length=365, freq='D')"
      ]
     },
     "execution_count": 21,
     "metadata": {},
     "output_type": "execute_result"
    }
   ],
   "source": [
    "dates = pd.date_range(\"1 1 2016\", periods=365, freq=\"D\") # freq=\"D\" 데이로, 365주기\n",
    "dates"
   ]
  },
  {
   "cell_type": "code",
   "execution_count": 12,
   "metadata": {},
   "outputs": [
    {
     "data": {
      "text/html": [
       "<div>\n",
       "<style scoped>\n",
       "    .dataframe tbody tr th:only-of-type {\n",
       "        vertical-align: middle;\n",
       "    }\n",
       "\n",
       "    .dataframe tbody tr th {\n",
       "        vertical-align: top;\n",
       "    }\n",
       "\n",
       "    .dataframe thead th {\n",
       "        text-align: right;\n",
       "    }\n",
       "</style>\n",
       "<table border=\"1\" class=\"dataframe\">\n",
       "  <thead>\n",
       "    <tr style=\"text-align: right;\">\n",
       "      <th></th>\n",
       "      <th>A</th>\n",
       "      <th>B</th>\n",
       "      <th>C</th>\n",
       "      <th>D</th>\n",
       "    </tr>\n",
       "  </thead>\n",
       "  <tbody>\n",
       "    <tr>\n",
       "      <th>2016-01-01</th>\n",
       "      <td>-2.141599</td>\n",
       "      <td>-1.238566</td>\n",
       "      <td>1.392947</td>\n",
       "      <td>0.539502</td>\n",
       "    </tr>\n",
       "  </tbody>\n",
       "</table>\n",
       "</div>"
      ],
      "text/plain": [
       "                   A         B         C         D\n",
       "2016-01-01 -2.141599 -1.238566  1.392947  0.539502"
      ]
     },
     "execution_count": 12,
     "metadata": {},
     "output_type": "execute_result"
    }
   ],
   "source": [
    "data = pd.DataFrame(values, dates, columns=[\"A\", \"B\", \"C\", \"D\"])\n",
    "data.head(1)"
   ]
  },
  {
   "cell_type": "code",
   "execution_count": 13,
   "metadata": {},
   "outputs": [
    {
     "data": {
      "text/html": [
       "<div>\n",
       "<style scoped>\n",
       "    .dataframe tbody tr th:only-of-type {\n",
       "        vertical-align: middle;\n",
       "    }\n",
       "\n",
       "    .dataframe tbody tr th {\n",
       "        vertical-align: top;\n",
       "    }\n",
       "\n",
       "    .dataframe thead th {\n",
       "        text-align: right;\n",
       "    }\n",
       "</style>\n",
       "<table border=\"1\" class=\"dataframe\">\n",
       "  <thead>\n",
       "    <tr style=\"text-align: right;\">\n",
       "      <th></th>\n",
       "      <th>A</th>\n",
       "      <th>B</th>\n",
       "      <th>C</th>\n",
       "      <th>D</th>\n",
       "    </tr>\n",
       "  </thead>\n",
       "  <tbody>\n",
       "    <tr>\n",
       "      <th>2016-12-30</th>\n",
       "      <td>40.185918</td>\n",
       "      <td>13.869666</td>\n",
       "      <td>-13.446943</td>\n",
       "      <td>10.717045</td>\n",
       "    </tr>\n",
       "  </tbody>\n",
       "</table>\n",
       "</div>"
      ],
      "text/plain": [
       "                    A          B          C          D\n",
       "2016-12-30  40.185918  13.869666 -13.446943  10.717045"
      ]
     },
     "execution_count": 13,
     "metadata": {},
     "output_type": "execute_result"
    }
   ],
   "source": [
    "data.tail(1)"
   ]
  },
  {
   "cell_type": "code",
   "execution_count": 14,
   "metadata": {},
   "outputs": [
    {
     "data": {
      "text/html": [
       "<div>\n",
       "<style scoped>\n",
       "    .dataframe tbody tr th:only-of-type {\n",
       "        vertical-align: middle;\n",
       "    }\n",
       "\n",
       "    .dataframe tbody tr th {\n",
       "        vertical-align: top;\n",
       "    }\n",
       "\n",
       "    .dataframe thead th {\n",
       "        text-align: right;\n",
       "    }\n",
       "</style>\n",
       "<table border=\"1\" class=\"dataframe\">\n",
       "  <thead>\n",
       "    <tr style=\"text-align: right;\">\n",
       "      <th></th>\n",
       "      <th>A</th>\n",
       "      <th>B</th>\n",
       "      <th>C</th>\n",
       "      <th>D</th>\n",
       "    </tr>\n",
       "  </thead>\n",
       "  <tbody>\n",
       "    <tr>\n",
       "      <th>2016-01-01</th>\n",
       "      <td>NaN</td>\n",
       "      <td>NaN</td>\n",
       "      <td>NaN</td>\n",
       "      <td>NaN</td>\n",
       "    </tr>\n",
       "    <tr>\n",
       "      <th>2016-01-02</th>\n",
       "      <td>NaN</td>\n",
       "      <td>NaN</td>\n",
       "      <td>NaN</td>\n",
       "      <td>NaN</td>\n",
       "    </tr>\n",
       "    <tr>\n",
       "      <th>2016-01-03</th>\n",
       "      <td>NaN</td>\n",
       "      <td>NaN</td>\n",
       "      <td>NaN</td>\n",
       "      <td>NaN</td>\n",
       "    </tr>\n",
       "    <tr>\n",
       "      <th>2016-01-04</th>\n",
       "      <td>NaN</td>\n",
       "      <td>NaN</td>\n",
       "      <td>NaN</td>\n",
       "      <td>NaN</td>\n",
       "    </tr>\n",
       "    <tr>\n",
       "      <th>2016-01-05</th>\n",
       "      <td>NaN</td>\n",
       "      <td>NaN</td>\n",
       "      <td>NaN</td>\n",
       "      <td>NaN</td>\n",
       "    </tr>\n",
       "    <tr>\n",
       "      <th>2016-01-06</th>\n",
       "      <td>NaN</td>\n",
       "      <td>NaN</td>\n",
       "      <td>NaN</td>\n",
       "      <td>NaN</td>\n",
       "    </tr>\n",
       "    <tr>\n",
       "      <th>2016-01-07</th>\n",
       "      <td>-0.458300</td>\n",
       "      <td>-0.677791</td>\n",
       "      <td>0.851888</td>\n",
       "      <td>-1.946814</td>\n",
       "    </tr>\n",
       "    <tr>\n",
       "      <th>2016-01-08</th>\n",
       "      <td>-0.239556</td>\n",
       "      <td>-0.403172</td>\n",
       "      <td>0.745531</td>\n",
       "      <td>-2.504348</td>\n",
       "    </tr>\n",
       "    <tr>\n",
       "      <th>2016-01-09</th>\n",
       "      <td>-0.261204</td>\n",
       "      <td>-0.254974</td>\n",
       "      <td>0.798896</td>\n",
       "      <td>-2.610642</td>\n",
       "    </tr>\n",
       "    <tr>\n",
       "      <th>2016-01-10</th>\n",
       "      <td>-0.602155</td>\n",
       "      <td>-0.126817</td>\n",
       "      <td>0.942284</td>\n",
       "      <td>-2.381506</td>\n",
       "    </tr>\n",
       "    <tr>\n",
       "      <th>2016-01-11</th>\n",
       "      <td>-0.762539</td>\n",
       "      <td>-0.038982</td>\n",
       "      <td>1.077379</td>\n",
       "      <td>-2.300033</td>\n",
       "    </tr>\n",
       "    <tr>\n",
       "      <th>2016-01-12</th>\n",
       "      <td>-0.725814</td>\n",
       "      <td>0.399516</td>\n",
       "      <td>1.567837</td>\n",
       "      <td>-2.081189</td>\n",
       "    </tr>\n",
       "    <tr>\n",
       "      <th>2016-01-13</th>\n",
       "      <td>-0.880924</td>\n",
       "      <td>0.723558</td>\n",
       "      <td>1.854528</td>\n",
       "      <td>-2.269472</td>\n",
       "    </tr>\n",
       "    <tr>\n",
       "      <th>2016-01-14</th>\n",
       "      <td>-0.892647</td>\n",
       "      <td>0.909081</td>\n",
       "      <td>2.373457</td>\n",
       "      <td>-2.299502</td>\n",
       "    </tr>\n",
       "  </tbody>\n",
       "</table>\n",
       "</div>"
      ],
      "text/plain": [
       "                   A         B         C         D\n",
       "2016-01-01       NaN       NaN       NaN       NaN\n",
       "2016-01-02       NaN       NaN       NaN       NaN\n",
       "2016-01-03       NaN       NaN       NaN       NaN\n",
       "2016-01-04       NaN       NaN       NaN       NaN\n",
       "2016-01-05       NaN       NaN       NaN       NaN\n",
       "2016-01-06       NaN       NaN       NaN       NaN\n",
       "2016-01-07 -0.458300 -0.677791  0.851888 -1.946814\n",
       "2016-01-08 -0.239556 -0.403172  0.745531 -2.504348\n",
       "2016-01-09 -0.261204 -0.254974  0.798896 -2.610642\n",
       "2016-01-10 -0.602155 -0.126817  0.942284 -2.381506\n",
       "2016-01-11 -0.762539 -0.038982  1.077379 -2.300033\n",
       "2016-01-12 -0.725814  0.399516  1.567837 -2.081189\n",
       "2016-01-13 -0.880924  0.723558  1.854528 -2.269472\n",
       "2016-01-14 -0.892647  0.909081  2.373457 -2.299502"
      ]
     },
     "execution_count": 14,
     "metadata": {},
     "output_type": "execute_result"
    }
   ],
   "source": [
    "data = data.rolling(7).mean() # 1주일동안의 이동평균값 \n",
    "data.head(14)"
   ]
  },
  {
   "cell_type": "code",
   "execution_count": 15,
   "metadata": {},
   "outputs": [
    {
     "data": {
      "text/html": [
       "<div>\n",
       "<style scoped>\n",
       "    .dataframe tbody tr th:only-of-type {\n",
       "        vertical-align: middle;\n",
       "    }\n",
       "\n",
       "    .dataframe tbody tr th {\n",
       "        vertical-align: top;\n",
       "    }\n",
       "\n",
       "    .dataframe thead th {\n",
       "        text-align: right;\n",
       "    }\n",
       "</style>\n",
       "<table border=\"1\" class=\"dataframe\">\n",
       "  <thead>\n",
       "    <tr style=\"text-align: right;\">\n",
       "      <th></th>\n",
       "      <th>A</th>\n",
       "      <th>B</th>\n",
       "      <th>C</th>\n",
       "      <th>D</th>\n",
       "    </tr>\n",
       "  </thead>\n",
       "  <tbody>\n",
       "    <tr>\n",
       "      <th>2016-12-17</th>\n",
       "      <td>40.372286</td>\n",
       "      <td>14.756488</td>\n",
       "      <td>-14.727881</td>\n",
       "      <td>11.329401</td>\n",
       "    </tr>\n",
       "    <tr>\n",
       "      <th>2016-12-18</th>\n",
       "      <td>40.019334</td>\n",
       "      <td>14.994212</td>\n",
       "      <td>-14.693699</td>\n",
       "      <td>11.184410</td>\n",
       "    </tr>\n",
       "    <tr>\n",
       "      <th>2016-12-19</th>\n",
       "      <td>39.375075</td>\n",
       "      <td>15.016319</td>\n",
       "      <td>-14.379424</td>\n",
       "      <td>11.338507</td>\n",
       "    </tr>\n",
       "    <tr>\n",
       "      <th>2016-12-20</th>\n",
       "      <td>38.743908</td>\n",
       "      <td>15.251274</td>\n",
       "      <td>-14.043725</td>\n",
       "      <td>11.526092</td>\n",
       "    </tr>\n",
       "    <tr>\n",
       "      <th>2016-12-21</th>\n",
       "      <td>38.453403</td>\n",
       "      <td>15.438575</td>\n",
       "      <td>-13.651803</td>\n",
       "      <td>11.471229</td>\n",
       "    </tr>\n",
       "    <tr>\n",
       "      <th>2016-12-22</th>\n",
       "      <td>38.335901</td>\n",
       "      <td>15.672412</td>\n",
       "      <td>-13.417281</td>\n",
       "      <td>11.407427</td>\n",
       "    </tr>\n",
       "    <tr>\n",
       "      <th>2016-12-23</th>\n",
       "      <td>38.219439</td>\n",
       "      <td>15.965895</td>\n",
       "      <td>-13.057782</td>\n",
       "      <td>11.060059</td>\n",
       "    </tr>\n",
       "    <tr>\n",
       "      <th>2016-12-24</th>\n",
       "      <td>38.191991</td>\n",
       "      <td>16.228454</td>\n",
       "      <td>-12.743142</td>\n",
       "      <td>10.481270</td>\n",
       "    </tr>\n",
       "    <tr>\n",
       "      <th>2016-12-25</th>\n",
       "      <td>38.257600</td>\n",
       "      <td>16.220786</td>\n",
       "      <td>-12.660004</td>\n",
       "      <td>9.825187</td>\n",
       "    </tr>\n",
       "    <tr>\n",
       "      <th>2016-12-26</th>\n",
       "      <td>38.698745</td>\n",
       "      <td>16.181793</td>\n",
       "      <td>-12.785039</td>\n",
       "      <td>9.346538</td>\n",
       "    </tr>\n",
       "    <tr>\n",
       "      <th>2016-12-27</th>\n",
       "      <td>39.459673</td>\n",
       "      <td>16.207105</td>\n",
       "      <td>-12.889378</td>\n",
       "      <td>8.956668</td>\n",
       "    </tr>\n",
       "    <tr>\n",
       "      <th>2016-12-28</th>\n",
       "      <td>39.886961</td>\n",
       "      <td>16.112783</td>\n",
       "      <td>-13.009065</td>\n",
       "      <td>8.975601</td>\n",
       "    </tr>\n",
       "    <tr>\n",
       "      <th>2016-12-29</th>\n",
       "      <td>40.232831</td>\n",
       "      <td>15.907644</td>\n",
       "      <td>-12.845443</td>\n",
       "      <td>9.060119</td>\n",
       "    </tr>\n",
       "    <tr>\n",
       "      <th>2016-12-30</th>\n",
       "      <td>40.508511</td>\n",
       "      <td>15.527725</td>\n",
       "      <td>-13.059966</td>\n",
       "      <td>9.235144</td>\n",
       "    </tr>\n",
       "  </tbody>\n",
       "</table>\n",
       "</div>"
      ],
      "text/plain": [
       "                    A          B          C          D\n",
       "2016-12-17  40.372286  14.756488 -14.727881  11.329401\n",
       "2016-12-18  40.019334  14.994212 -14.693699  11.184410\n",
       "2016-12-19  39.375075  15.016319 -14.379424  11.338507\n",
       "2016-12-20  38.743908  15.251274 -14.043725  11.526092\n",
       "2016-12-21  38.453403  15.438575 -13.651803  11.471229\n",
       "2016-12-22  38.335901  15.672412 -13.417281  11.407427\n",
       "2016-12-23  38.219439  15.965895 -13.057782  11.060059\n",
       "2016-12-24  38.191991  16.228454 -12.743142  10.481270\n",
       "2016-12-25  38.257600  16.220786 -12.660004   9.825187\n",
       "2016-12-26  38.698745  16.181793 -12.785039   9.346538\n",
       "2016-12-27  39.459673  16.207105 -12.889378   8.956668\n",
       "2016-12-28  39.886961  16.112783 -13.009065   8.975601\n",
       "2016-12-29  40.232831  15.907644 -12.845443   9.060119\n",
       "2016-12-30  40.508511  15.527725 -13.059966   9.235144"
      ]
     },
     "execution_count": 15,
     "metadata": {},
     "output_type": "execute_result"
    }
   ],
   "source": [
    "data.tail(14)"
   ]
  },
  {
   "cell_type": "code",
   "execution_count": 22,
   "metadata": {},
   "outputs": [
    {
     "data": {
      "text/plain": [
       "<matplotlib.axes._subplots.AxesSubplot at 0x122ebcb00>"
      ]
     },
     "execution_count": 22,
     "metadata": {},
     "output_type": "execute_result"
    },
    {
     "data": {
      "image/png": "[encoded data removed]",
      "text/plain": [
       "<Figure size 432x288 with 1 Axes>"
      ]
     },
     "metadata": {},
     "output_type": "display_data"
    }
   ],
   "source": [
    "sns.lineplot(data=data)"
   ]
  },
  {
   "cell_type": "code",
   "execution_count": 17,
   "metadata": {},
   "outputs": [
    {
     "data": {
      "text/plain": [
       "<matplotlib.axes._subplots.AxesSubplot at 0x122905e80>"
      ]
     },
     "execution_count": 17,
     "metadata": {},
     "output_type": "execute_result"
    },
    {
     "data": {
      "image/png": "[encoded data removed]",
      "text/plain": [
       "<Figure size 432x288 with 1 Axes>"
      ]
     },
     "metadata": {},
     "output_type": "display_data"
    }
   ],
   "source": [
    "sns.lineplot(data=data, palette=\"tab10\", linewidth=2.5) # palette 다른 색상"
   ]
  },
  {
   "cell_type": "code",
   "execution_count": null,
   "metadata": {},
   "outputs": [],
   "source": []
  }
 ],
 "metadata": {
  "kernelspec": {
   "display_name": "Python 3",
   "language": "python",
   "name": "python3"
  },
  "language_info": {
   "codemirror_mode": {
    "name": "ipython",
    "version": 3
   },
   "file_extension": ".py",
   "mimetype": "text/x-python",
   "name": "python",
   "nbconvert_exporter": "python",
   "pygments_lexer": "ipython3",
   "version": "3.7.5"
  },
  "varInspector": {
   "cols": {
    "lenName": 16,
    "lenType": 16,
    "lenVar": 40
   },
   "kernels_config": {
    "python": {
     "delete_cmd_postfix": "",
     "delete_cmd_prefix": "del ",
     "library": "var_list.py",
     "varRefreshCmd": "print(var_dic_list())"
    },
    "r": {
     "delete_cmd_postfix": ") ",
     "delete_cmd_prefix": "rm(",
     "library": "var_list.r",
     "varRefreshCmd": "cat(var_dic_list()) "
    }
   },
   "types_to_exclude": [
    "module",
    "function",
    "builtin_function_or_method",
    "instance",
    "_Feature"
   ],
   "window_display": false
  }
 },
 "nbformat": 4,
 "nbformat_minor": 2
}
